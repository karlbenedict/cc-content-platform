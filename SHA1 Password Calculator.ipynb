{
 "cells": [
  {
   "cell_type": "markdown",
   "metadata": {},
   "source": [
    "# Simple SHA1 Password Hash Calculator\n",
    "\n",
    "The default password used when this platform is run should be changed when executed on any\n",
    "publicly accessible computer. This calculator will provide an appropriate SHA1 hash value that \n",
    "can be used to change the password used by Jupyter notebooks when the platform is started. \n",
    "\n",
    "Simply replace the password string in the following block with your password of choice, and\n",
    "run the code block (`shift-enter` while your cursor is in the block, or the `Run` button above).\n",
    "The output of the command will be the password hash that you can use to define the new password\n",
    "for your instance of the platform. "
   ]
  },
  {
   "cell_type": "code",
   "execution_count": null,
   "metadata": {},
   "outputs": [],
   "source": [
    "# replace the \"password\" string with your password\n",
    "# e.g. \n",
    "# password = \"myNewPassword\"\n",
    "\n",
    "\n",
    "from IPython.lib import passwd()\n",
    "pwHash = passwd(password)\n",
    "print(hex_dig)"
   ]
  }
 ],
 "metadata": {
  "kernelspec": {
   "display_name": "Python 3",
   "language": "python",
   "name": "python3"
  },
  "language_info": {
   "codemirror_mode": {
    "name": "ipython",
    "version": 3
   },
   "file_extension": ".py",
   "mimetype": "text/x-python",
   "name": "python",
   "nbconvert_exporter": "python",
   "pygments_lexer": "ipython3",
   "version": "3.6.5"
  }
 },
 "nbformat": 4,
 "nbformat_minor": 2
}
